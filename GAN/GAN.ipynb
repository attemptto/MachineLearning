{
 "cells": [
  {
   "cell_type": "code",
   "execution_count": 1,
   "id": "5b3ec465",
   "metadata": {},
   "outputs": [],
   "source": [
    "import torch"
   ]
  },
  {
   "cell_type": "code",
   "execution_count": 2,
   "id": "7aab62e8",
   "metadata": {},
   "outputs": [
    {
     "data": {
      "text/plain": [
       "True"
      ]
     },
     "execution_count": 2,
     "metadata": {},
     "output_type": "execute_result"
    }
   ],
   "source": [
    "torch.cuda.is_available()"
   ]
  },
  {
   "cell_type": "code",
   "execution_count": 3,
   "id": "8c4a1afe",
   "metadata": {},
   "outputs": [],
   "source": [
    "from torch import nn, optim, autograd\n",
    "import numpy as np\n",
    "import random\n",
    "from matplotlib import pyplot as plt"
   ]
  },
  {
   "cell_type": "code",
   "execution_count": 4,
   "id": "a13e22d1",
   "metadata": {},
   "outputs": [],
   "source": [
    "import visdom"
   ]
  },
  {
   "cell_type": "code",
   "execution_count": 5,
   "id": "f027bca0",
   "metadata": {},
   "outputs": [
    {
     "name": "stderr",
     "output_type": "stream",
     "text": [
      "Setting up a new session...\n"
     ]
    }
   ],
   "source": [
    "h_dim = 400\n",
    "batch_size = 512\n",
    "viz =  visdom.Visdom()\n",
    "\n",
    "class Generator(nn.Module):\n",
    "    \n",
    "    def __init__(self):\n",
    "        super(Generator,self).__init__()\n",
    "        \n",
    "        self.net = nn.Sequential(\n",
    "            #z: [batch_size, 2] => [b, 2]输出学习的分布，为了画出就定二维,四全连接层\n",
    "            nn.Linear(2, h_dim),\n",
    "            nn.ReLU(True),\n",
    "            nn.Linear(h_dim, h_dim),\n",
    "            nn.ReLU(True),\n",
    "            nn.Linear(h_dim, h_dim),\n",
    "            nn.ReLU(True),\n",
    "            nn.Linear(h_dim, 2),\n",
    "        )\n",
    "        \n",
    "    def forward(self, z):\n",
    "        output = self.net(z)\n",
    "        return output\n",
    "    \n",
    "class Discriminator(nn.Module):\n",
    "    \n",
    "    def __init__(self):\n",
    "        super(Discriminator,self).__init__()\n",
    "        \n",
    "        self.net = nn.Sequential(\n",
    "            #z: [batch_size, 2] => [b, 2]输出学习的分布，为了画出就定二维,四全连接层\n",
    "            nn.Linear(2, h_dim),\n",
    "            nn.ReLU(True),\n",
    "            nn.Linear(h_dim, h_dim),\n",
    "            nn.ReLU(True),\n",
    "            nn.Linear(h_dim, h_dim),\n",
    "            nn.ReLU(True),\n",
    "            nn.Linear(h_dim, 1),\n",
    "            nn.Sigmoid()\n",
    "        )\n",
    "        \n",
    "    def forward(self, z):\n",
    "        output = self.net(z)\n",
    "        return output.view(-1)\n",
    "\n",
    "    #生成数据集\n",
    "def data_generator():\n",
    "    #八个高斯混合分布。在一个圆上 \n",
    "    scale = 2.\n",
    "    centers = [\n",
    "        (1, 0),\n",
    "        (-1, 0),\n",
    "        (0, -1),\n",
    "        (0, 1),\n",
    "        (1./np.sqrt(2), 1./np.sqrt(2)),\n",
    "        (1./np.sqrt(2), -1./np.sqrt(2)),\n",
    "        (-1./np.sqrt(2), 1./np.sqrt(2)),\n",
    "        (-1./np.sqrt(2), -1./np.sqrt(2))\n",
    "    ]\n",
    "    centers = [(scale * x, scale * y) for x,y in centers]\n",
    "    \n",
    "    while True:\n",
    "        dataset = []\n",
    "        \n",
    "        for i in range(batch_size):\n",
    "            point = np.random.randn(2)*0.01\n",
    "            center = random.choice(centers)\n",
    "            #N(0,1) + center x1/x2\n",
    "            point[0] += center[0]\n",
    "            point[1] += center[1]\n",
    "            dataset.append(point)\n",
    "            \n",
    "        dataset = np.array(dataset).astype(np.float32)\n",
    "        dataset /=1.414\n",
    "        #迭代返回生成器\n",
    "        yield dataset"
   ]
  },
  {
   "cell_type": "code",
   "execution_count": 28,
   "id": "87751c9a",
   "metadata": {},
   "outputs": [],
   "source": [
    "def generate_image(D, G, xr, epoch):\n",
    "    \"\"\"\n",
    "    Generates and saves a plot of the true distribution, the generator, and the\n",
    "    critic.\n",
    "    \"\"\"\n",
    "    N_POINTS = 128\n",
    "    RANGE = 3\n",
    "    plt.clf()\n",
    "\n",
    "    points = np.zeros((N_POINTS, N_POINTS, 2), dtype='float32')\n",
    "    points[:, :, 0] = np.linspace(-RANGE, RANGE, N_POINTS)[:, None]\n",
    "    points[:, :, 1] = np.linspace(-RANGE, RANGE, N_POINTS)[None, :]\n",
    "    points = points.reshape((-1, 2))\n",
    "    # (16384, 2)\n",
    "    # print('p:', points.shape)\n",
    "\n",
    "    # draw contour\n",
    "    with torch.no_grad():\n",
    "        points = torch.Tensor(points).cuda() # [16384, 2]\n",
    "        disc_map = D(points).cpu().numpy() # [16384]\n",
    "    x = y = np.linspace(-RANGE, RANGE, N_POINTS)\n",
    "    cs = plt.contour(x, y, disc_map.reshape((len(x), len(y))).transpose())\n",
    "    plt.clabel(cs, inline=1, fontsize=10)\n",
    "    # plt.colorbar()\n",
    "\n",
    "\n",
    "    # draw samples\n",
    "    with torch.no_grad():\n",
    "        z = torch.randn(batch_size, 2).cuda() # [b, 2]\n",
    "        samples = G(z).cpu().numpy() # [b, 2]\n",
    "    xr = xr.cpu().numpy()\n",
    "    plt.scatter(xr[:, 0], xr[:, 1], c='orange', marker='.')\n",
    "    plt.scatter(samples[:, 0], samples[:, 1], c='green', marker='+')\n",
    "\n",
    "    viz.matplot(plt, win='contour', opts=dict(title='p(x):%d'%epoch))"
   ]
  },
  {
   "cell_type": "code",
   "execution_count": 29,
   "id": "d8ee10b7",
   "metadata": {},
   "outputs": [],
   "source": [
    "def main():\n",
    "    torch.manual_seed(24)\n",
    "    np.random.seed(24)\n",
    "    data_iter = data_generator()\n",
    "    x = next(data_iter)\n",
    "    \n",
    "    G = Generator().cuda()\n",
    "    D = Discriminator().cuda()\n",
    "    print(G)\n",
    "    print(D)\n",
    "    optim_G = optim.Adam(G.parameters(), lr=5e-4, betas=(0.5, 0.9))\n",
    "    optim_D = optim.Adam(D.parameters(), lr=5e-4, betas=(0.5, 0.9))\n",
    "    \n",
    "    viz.line([[0,0]],[0], win='loss', opts=dict(title='loss',legend = ['D','G']))\n",
    "    \n",
    "    for epoch in range(5000):\n",
    "        \n",
    "        #先训练Discriminator\n",
    "        #k个step\n",
    "        for _ in range(5):\n",
    "            \n",
    "            x_real = next(data_iter)\n",
    "            \n",
    "            x_real = torch.from_numpy(x_real).cuda()\n",
    "            # [b,2] -> [b, 1]\n",
    "            pred_ture = D(x_real)\n",
    "            \n",
    "            loss_real = -pred_ture.mean()\n",
    "            \n",
    "            # 生成数据g\n",
    "            z = torch.randn(batch_size, 2).cuda()\n",
    "            \n",
    "            x_fake = G(z).detach()\n",
    "            \n",
    "            pred_fake = D(x_fake)\n",
    "            \n",
    "            loss_fake = pred_fake.mean()\n",
    "            \n",
    "            loss_D = loss_real + loss_fake\n",
    "            \n",
    "            optim_D.zero_grad()\n",
    "            loss_D.backward()\n",
    "            optim_D.step()\n",
    "            \n",
    "            \n",
    "        # train Generator\n",
    "        \n",
    "        z = torch.randn(batch_size, 2).cuda()\n",
    "        x_fake = G(z)\n",
    "        pred_fake = D(x_fake)\n",
    "        #最大化\n",
    "        loss_G = -pred_fake.mean()\n",
    "        \n",
    "        #optimze\n",
    "        optim_G.zero_grad()\n",
    "        loss_G.backward()\n",
    "        optim_G.step()\n",
    "        \n",
    "        if epoch % 100 ==0:\n",
    "            #print(loss_D.item(), loss_G.item())\n",
    "            viz.line([[loss_D.item(), loss_G.item()]], [epoch], win='loss', update= 'append')\n",
    "            \n",
    "            generate_image(D, G, x_real,epoch)"
   ]
  },
  {
   "cell_type": "code",
   "execution_count": 30,
   "id": "0cc990b9",
   "metadata": {},
   "outputs": [
    {
     "name": "stdout",
     "output_type": "stream",
     "text": [
      "Generator(\n",
      "  (net): Sequential(\n",
      "    (0): Linear(in_features=2, out_features=400, bias=True)\n",
      "    (1): ReLU(inplace=True)\n",
      "    (2): Linear(in_features=400, out_features=400, bias=True)\n",
      "    (3): ReLU(inplace=True)\n",
      "    (4): Linear(in_features=400, out_features=400, bias=True)\n",
      "    (5): ReLU(inplace=True)\n",
      "    (6): Linear(in_features=400, out_features=2, bias=True)\n",
      "  )\n",
      ")\n",
      "Discriminator(\n",
      "  (net): Sequential(\n",
      "    (0): Linear(in_features=2, out_features=400, bias=True)\n",
      "    (1): ReLU(inplace=True)\n",
      "    (2): Linear(in_features=400, out_features=400, bias=True)\n",
      "    (3): ReLU(inplace=True)\n",
      "    (4): Linear(in_features=400, out_features=400, bias=True)\n",
      "    (5): ReLU(inplace=True)\n",
      "    (6): Linear(in_features=400, out_features=1, bias=True)\n",
      "    (7): Sigmoid()\n",
      "  )\n",
      ")\n"
     ]
    },
    {
     "ename": "KeyboardInterrupt",
     "evalue": "",
     "output_type": "error",
     "traceback": [
      "\u001b[1;31m---------------------------------------------------------------------------\u001b[0m",
      "\u001b[1;31mKeyboardInterrupt\u001b[0m                         Traceback (most recent call last)",
      "\u001b[1;32m~\\AppData\\Local\\Temp/ipykernel_8456/3832242952.py\u001b[0m in \u001b[0;36m<module>\u001b[1;34m\u001b[0m\n\u001b[0;32m      1\u001b[0m \u001b[1;32mif\u001b[0m \u001b[0m__name__\u001b[0m \u001b[1;33m==\u001b[0m \u001b[1;34m\"__main__\"\u001b[0m\u001b[1;33m:\u001b[0m\u001b[1;33m\u001b[0m\u001b[1;33m\u001b[0m\u001b[0m\n\u001b[1;32m----> 2\u001b[1;33m     \u001b[0mmain\u001b[0m\u001b[1;33m(\u001b[0m\u001b[1;33m)\u001b[0m\u001b[1;33m\u001b[0m\u001b[1;33m\u001b[0m\u001b[0m\n\u001b[0m",
      "\u001b[1;32m~\\AppData\\Local\\Temp/ipykernel_8456/2357025072.py\u001b[0m in \u001b[0;36mmain\u001b[1;34m()\u001b[0m\n\u001b[0;32m     29\u001b[0m \u001b[1;33m\u001b[0m\u001b[0m\n\u001b[0;32m     30\u001b[0m             \u001b[1;31m# 生成数据g\u001b[0m\u001b[1;33m\u001b[0m\u001b[1;33m\u001b[0m\u001b[0m\n\u001b[1;32m---> 31\u001b[1;33m             \u001b[0mz\u001b[0m \u001b[1;33m=\u001b[0m \u001b[0mtorch\u001b[0m\u001b[1;33m.\u001b[0m\u001b[0mrandn\u001b[0m\u001b[1;33m(\u001b[0m\u001b[0mbatch_size\u001b[0m\u001b[1;33m,\u001b[0m \u001b[1;36m2\u001b[0m\u001b[1;33m)\u001b[0m\u001b[1;33m.\u001b[0m\u001b[0mcuda\u001b[0m\u001b[1;33m(\u001b[0m\u001b[1;33m)\u001b[0m\u001b[1;33m\u001b[0m\u001b[1;33m\u001b[0m\u001b[0m\n\u001b[0m\u001b[0;32m     32\u001b[0m \u001b[1;33m\u001b[0m\u001b[0m\n\u001b[0;32m     33\u001b[0m             \u001b[0mx_fake\u001b[0m \u001b[1;33m=\u001b[0m \u001b[0mG\u001b[0m\u001b[1;33m(\u001b[0m\u001b[0mz\u001b[0m\u001b[1;33m)\u001b[0m\u001b[1;33m.\u001b[0m\u001b[0mdetach\u001b[0m\u001b[1;33m(\u001b[0m\u001b[1;33m)\u001b[0m\u001b[1;33m\u001b[0m\u001b[1;33m\u001b[0m\u001b[0m\n",
      "\u001b[1;31mKeyboardInterrupt\u001b[0m: "
     ]
    },
    {
     "data": {
      "image/png": "[encoded data removed]",
      "text/plain": [
       "<Figure size 432x288 with 1 Axes>"
      ]
     },
     "metadata": {
      "needs_background": "light"
     },
     "output_type": "display_data"
    }
   ],
   "source": [
    "if __name__ == \"__main__\":\n",
    "    main()"
   ]
  },
  {
   "cell_type": "code",
   "execution_count": null,
   "id": "48689cd3",
   "metadata": {},
   "outputs": [],
   "source": []
  }
 ],
 "metadata": {
  "kernelspec": {
   "display_name": "PyCharm (yolo)",
   "language": "python",
   "name": "pycharm-d9ca36da"
  },
  "language_info": {
   "codemirror_mode": {
    "name": "ipython",
    "version": 3
   },
   "file_extension": ".py",
   "mimetype": "text/x-python",
   "name": "python",
   "nbconvert_exporter": "python",
   "pygments_lexer": "ipython3",
   "version": "3.9.7"
  }
 },
 "nbformat": 4,
 "nbformat_minor": 5
}
